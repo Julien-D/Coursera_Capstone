{
    "cells": [
        {
            "cell_type": "markdown",
            "metadata": {
                "collapsed": true
            },
            "source": "## Obtain data about Paris neighborhoods in Wikipedia"
        },
        {
            "cell_type": "markdown",
            "metadata": {},
            "source": "Le quartier d\u00e9signe la division administrative de l\u2019arrondissement. Chaque arrondissement est d\u00e9coup\u00e9\nen quatre quartiers administratifs. Paris compte ainsi quatre-vingt quartiers administratifs."
        },
        {
            "cell_type": "markdown",
            "metadata": {},
            "source": "### Import libraries"
        },
        {
            "cell_type": "code",
            "execution_count": 112,
            "metadata": {},
            "outputs": [
                {
                    "name": "stdout",
                    "output_type": "stream",
                    "text": "Pandas library imported.\nRequests library imported.\nBeautifulSoup library imported.\nAll libraries imported.\n"
                }
            ],
            "source": "import pandas as pd\nprint('Pandas library imported.')\nimport requests\nprint('Requests library imported.')\nfrom bs4 import BeautifulSoup\nprint('BeautifulSoup library imported.')\n\nprint('All libraries imported.')"
        },
        {
            "cell_type": "markdown",
            "metadata": {},
            "source": "### Scrape the Wikipedia page and transform it into a dataframe with *BeautifulSoup* and *Pandas*"
        },
        {
            "cell_type": "markdown",
            "metadata": {},
            "source": "Scrape the wikipedia page about the neighborhoods of Paris: https://en.wikipedia.org/wiki/Quarters_of_Paris"
        },
        {
            "cell_type": "code",
            "execution_count": 113,
            "metadata": {},
            "outputs": [
                {
                    "name": "stdout",
                    "output_type": "stream",
                    "text": "The dataframe shape is (80, 6).\nThe five first rows are:\n"
                },
                {
                    "data": {
                        "text/html": "<div>\n<style scoped>\n    .dataframe tbody tr th:only-of-type {\n        vertical-align: middle;\n    }\n\n    .dataframe tbody tr th {\n        vertical-align: top;\n    }\n\n    .dataframe thead th {\n        text-align: right;\n    }\n</style>\n<table border=\"1\" class=\"dataframe\">\n  <thead>\n    <tr style=\"text-align: right;\">\n      <th></th>\n      <th>Arrondissement(Districts)</th>\n      <th>Quartiers(Quarters)</th>\n      <th>Quartiers(Quarters).1</th>\n      <th>Population in1999[3]</th>\n      <th>Area(hectares)[3]</th>\n      <th>Map</th>\n    </tr>\n  </thead>\n  <tbody>\n    <tr>\n      <th>0</th>\n      <td>1st arrondissement(Called \"du Louvre\")</td>\n      <td>1st</td>\n      <td>Saint-Germain-l'Auxerrois</td>\n      <td>1672</td>\n      <td>86.9</td>\n      <td>NaN</td>\n    </tr>\n    <tr>\n      <th>1</th>\n      <td>1st arrondissement(Called \"du Louvre\")</td>\n      <td>2nd</td>\n      <td>Les Halles</td>\n      <td>8984</td>\n      <td>41.2</td>\n      <td>NaN</td>\n    </tr>\n    <tr>\n      <th>2</th>\n      <td>1st arrondissement(Called \"du Louvre\")</td>\n      <td>3rd</td>\n      <td>Palais-Royal</td>\n      <td>3195</td>\n      <td>27.4</td>\n      <td>NaN</td>\n    </tr>\n    <tr>\n      <th>3</th>\n      <td>1st arrondissement(Called \"du Louvre\")</td>\n      <td>4th</td>\n      <td>Place-Vend\u00f4me</td>\n      <td>3044</td>\n      <td>26.9</td>\n      <td>NaN</td>\n    </tr>\n    <tr>\n      <th>4</th>\n      <td>2nd arrondissement(Called \"de la Bourse\")</td>\n      <td>5th</td>\n      <td>Gaillon</td>\n      <td>1345</td>\n      <td>18.8</td>\n      <td>NaN</td>\n    </tr>\n  </tbody>\n</table>\n</div>",
                        "text/plain": "                   Arrondissement(Districts) Quartiers(Quarters)  \\\n0     1st arrondissement(Called \"du Louvre\")                 1st   \n1     1st arrondissement(Called \"du Louvre\")                 2nd   \n2     1st arrondissement(Called \"du Louvre\")                 3rd   \n3     1st arrondissement(Called \"du Louvre\")                 4th   \n4  2nd arrondissement(Called \"de la Bourse\")                 5th   \n\n       Quartiers(Quarters).1  Population in1999[3]  Area(hectares)[3]  Map  \n0  Saint-Germain-l'Auxerrois                  1672               86.9  NaN  \n1                 Les Halles                  8984               41.2  NaN  \n2               Palais-Royal                  3195               27.4  NaN  \n3              Place-Vend\u00f4me                  3044               26.9  NaN  \n4                    Gaillon                  1345               18.8  NaN  "
                    },
                    "execution_count": 113,
                    "metadata": {},
                    "output_type": "execute_result"
                }
            ],
            "source": "result = requests.get(\"https://en.wikipedia.org/wiki/Quarters_of_Paris\")\nsoup = BeautifulSoup(result.content,'lxml')\ntable = soup.find_all('table')[0] \nparis_neighborhoods = pd.read_html(str(table))[0]\n\nprint('The dataframe shape is {}.'.format(paris_neighborhoods.shape))\n\nprint('The five first rows are:')\nparis_neighborhoods.head()"
        },
        {
            "cell_type": "markdown",
            "metadata": {},
            "source": "### Cleaning the dataframe"
        },
        {
            "cell_type": "markdown",
            "metadata": {},
            "source": "Drop the \"Map\" column which is empty"
        },
        {
            "cell_type": "code",
            "execution_count": 114,
            "metadata": {},
            "outputs": [
                {
                    "data": {
                        "text/html": "<div>\n<style scoped>\n    .dataframe tbody tr th:only-of-type {\n        vertical-align: middle;\n    }\n\n    .dataframe tbody tr th {\n        vertical-align: top;\n    }\n\n    .dataframe thead th {\n        text-align: right;\n    }\n</style>\n<table border=\"1\" class=\"dataframe\">\n  <thead>\n    <tr style=\"text-align: right;\">\n      <th></th>\n      <th>Arrondissement(Districts)</th>\n      <th>Quartiers(Quarters)</th>\n      <th>Quartiers(Quarters).1</th>\n      <th>Population in1999[3]</th>\n      <th>Area(hectares)[3]</th>\n    </tr>\n  </thead>\n  <tbody>\n    <tr>\n      <th>0</th>\n      <td>1st arrondissement(Called \"du Louvre\")</td>\n      <td>1st</td>\n      <td>Saint-Germain-l'Auxerrois</td>\n      <td>1672</td>\n      <td>86.9</td>\n    </tr>\n    <tr>\n      <th>1</th>\n      <td>1st arrondissement(Called \"du Louvre\")</td>\n      <td>2nd</td>\n      <td>Les Halles</td>\n      <td>8984</td>\n      <td>41.2</td>\n    </tr>\n    <tr>\n      <th>2</th>\n      <td>1st arrondissement(Called \"du Louvre\")</td>\n      <td>3rd</td>\n      <td>Palais-Royal</td>\n      <td>3195</td>\n      <td>27.4</td>\n    </tr>\n    <tr>\n      <th>3</th>\n      <td>1st arrondissement(Called \"du Louvre\")</td>\n      <td>4th</td>\n      <td>Place-Vend\u00f4me</td>\n      <td>3044</td>\n      <td>26.9</td>\n    </tr>\n    <tr>\n      <th>4</th>\n      <td>2nd arrondissement(Called \"de la Bourse\")</td>\n      <td>5th</td>\n      <td>Gaillon</td>\n      <td>1345</td>\n      <td>18.8</td>\n    </tr>\n  </tbody>\n</table>\n</div>",
                        "text/plain": "                   Arrondissement(Districts) Quartiers(Quarters)  \\\n0     1st arrondissement(Called \"du Louvre\")                 1st   \n1     1st arrondissement(Called \"du Louvre\")                 2nd   \n2     1st arrondissement(Called \"du Louvre\")                 3rd   \n3     1st arrondissement(Called \"du Louvre\")                 4th   \n4  2nd arrondissement(Called \"de la Bourse\")                 5th   \n\n       Quartiers(Quarters).1  Population in1999[3]  Area(hectares)[3]  \n0  Saint-Germain-l'Auxerrois                  1672               86.9  \n1                 Les Halles                  8984               41.2  \n2               Palais-Royal                  3195               27.4  \n3              Place-Vend\u00f4me                  3044               26.9  \n4                    Gaillon                  1345               18.8  "
                    },
                    "execution_count": 114,
                    "metadata": {},
                    "output_type": "execute_result"
                }
            ],
            "source": "paris_neighborhoods.drop(['Map'], axis='columns', inplace=True)\n\nparis_neighborhoods.head()"
        },
        {
            "cell_type": "markdown",
            "metadata": {},
            "source": "Rename the columns"
        },
        {
            "cell_type": "code",
            "execution_count": 115,
            "metadata": {},
            "outputs": [
                {
                    "data": {
                        "text/html": "<div>\n<style scoped>\n    .dataframe tbody tr th:only-of-type {\n        vertical-align: middle;\n    }\n\n    .dataframe tbody tr th {\n        vertical-align: top;\n    }\n\n    .dataframe thead th {\n        text-align: right;\n    }\n</style>\n<table border=\"1\" class=\"dataframe\">\n  <thead>\n    <tr style=\"text-align: right;\">\n      <th></th>\n      <th>District</th>\n      <th>NeighborhoodCode</th>\n      <th>Neighborhood</th>\n      <th>Population (1999)</th>\n      <th>Area (ha)</th>\n    </tr>\n  </thead>\n  <tbody>\n    <tr>\n      <th>0</th>\n      <td>1st arrondissement(Called \"du Louvre\")</td>\n      <td>1st</td>\n      <td>Saint-Germain-l'Auxerrois</td>\n      <td>1672</td>\n      <td>86.9</td>\n    </tr>\n    <tr>\n      <th>1</th>\n      <td>1st arrondissement(Called \"du Louvre\")</td>\n      <td>2nd</td>\n      <td>Les Halles</td>\n      <td>8984</td>\n      <td>41.2</td>\n    </tr>\n    <tr>\n      <th>2</th>\n      <td>1st arrondissement(Called \"du Louvre\")</td>\n      <td>3rd</td>\n      <td>Palais-Royal</td>\n      <td>3195</td>\n      <td>27.4</td>\n    </tr>\n    <tr>\n      <th>3</th>\n      <td>1st arrondissement(Called \"du Louvre\")</td>\n      <td>4th</td>\n      <td>Place-Vend\u00f4me</td>\n      <td>3044</td>\n      <td>26.9</td>\n    </tr>\n    <tr>\n      <th>4</th>\n      <td>2nd arrondissement(Called \"de la Bourse\")</td>\n      <td>5th</td>\n      <td>Gaillon</td>\n      <td>1345</td>\n      <td>18.8</td>\n    </tr>\n  </tbody>\n</table>\n</div>",
                        "text/plain": "                                    District NeighborhoodCode  \\\n0     1st arrondissement(Called \"du Louvre\")              1st   \n1     1st arrondissement(Called \"du Louvre\")              2nd   \n2     1st arrondissement(Called \"du Louvre\")              3rd   \n3     1st arrondissement(Called \"du Louvre\")              4th   \n4  2nd arrondissement(Called \"de la Bourse\")              5th   \n\n                Neighborhood  Population (1999)  Area (ha)  \n0  Saint-Germain-l'Auxerrois               1672       86.9  \n1                 Les Halles               8984       41.2  \n2               Palais-Royal               3195       27.4  \n3              Place-Vend\u00f4me               3044       26.9  \n4                    Gaillon               1345       18.8  "
                    },
                    "execution_count": 115,
                    "metadata": {},
                    "output_type": "execute_result"
                }
            ],
            "source": "paris_neighborhoods.columns = ['District', 'NeighborhoodCode', 'Neighborhood', 'Population (1999)', 'Area (ha)']\n\nparis_neighborhoods.head()"
        },
        {
            "cell_type": "markdown",
            "metadata": {},
            "source": "Split the district official name (number of the \"arrondissement\") and the \"also called\" named (which is not commonly used in Paris)"
        },
        {
            "cell_type": "code",
            "execution_count": 116,
            "metadata": {},
            "outputs": [
                {
                    "data": {
                        "text/html": "<div>\n<style scoped>\n    .dataframe tbody tr th:only-of-type {\n        vertical-align: middle;\n    }\n\n    .dataframe tbody tr th {\n        vertical-align: top;\n    }\n\n    .dataframe thead th {\n        text-align: right;\n    }\n</style>\n<table border=\"1\" class=\"dataframe\">\n  <thead>\n    <tr style=\"text-align: right;\">\n      <th></th>\n      <th>District</th>\n      <th>NeighborhoodCode</th>\n      <th>Neighborhood</th>\n      <th>Population (1999)</th>\n      <th>Area (ha)</th>\n      <th>DistrictName</th>\n    </tr>\n  </thead>\n  <tbody>\n    <tr>\n      <th>0</th>\n      <td>1st arrondissement</td>\n      <td>1st</td>\n      <td>Saint-Germain-l'Auxerrois</td>\n      <td>1672</td>\n      <td>86.9</td>\n      <td>Called \"du Louvre\")</td>\n    </tr>\n    <tr>\n      <th>1</th>\n      <td>1st arrondissement</td>\n      <td>2nd</td>\n      <td>Les Halles</td>\n      <td>8984</td>\n      <td>41.2</td>\n      <td>Called \"du Louvre\")</td>\n    </tr>\n    <tr>\n      <th>2</th>\n      <td>1st arrondissement</td>\n      <td>3rd</td>\n      <td>Palais-Royal</td>\n      <td>3195</td>\n      <td>27.4</td>\n      <td>Called \"du Louvre\")</td>\n    </tr>\n    <tr>\n      <th>3</th>\n      <td>1st arrondissement</td>\n      <td>4th</td>\n      <td>Place-Vend\u00f4me</td>\n      <td>3044</td>\n      <td>26.9</td>\n      <td>Called \"du Louvre\")</td>\n    </tr>\n    <tr>\n      <th>4</th>\n      <td>2nd arrondissement</td>\n      <td>5th</td>\n      <td>Gaillon</td>\n      <td>1345</td>\n      <td>18.8</td>\n      <td>Called \"de la Bourse\")</td>\n    </tr>\n  </tbody>\n</table>\n</div>",
                        "text/plain": "             District NeighborhoodCode               Neighborhood  \\\n0  1st arrondissement              1st  Saint-Germain-l'Auxerrois   \n1  1st arrondissement              2nd                 Les Halles   \n2  1st arrondissement              3rd               Palais-Royal   \n3  1st arrondissement              4th              Place-Vend\u00f4me   \n4  2nd arrondissement              5th                    Gaillon   \n\n   Population (1999)  Area (ha)            DistrictName  \n0               1672       86.9     Called \"du Louvre\")  \n1               8984       41.2     Called \"du Louvre\")  \n2               3195       27.4     Called \"du Louvre\")  \n3               3044       26.9     Called \"du Louvre\")  \n4               1345       18.8  Called \"de la Bourse\")  "
                    },
                    "execution_count": 116,
                    "metadata": {},
                    "output_type": "execute_result"
                }
            ],
            "source": "paris_neighborhoods[['District', 'DistrictName']] = paris_neighborhoods.District.str.split(\"(\",expand=True,)\n\nparis_neighborhoods.head()"
        },
        {
            "cell_type": "markdown",
            "metadata": {},
            "source": "Make the district name more beautiful"
        },
        {
            "cell_type": "code",
            "execution_count": 117,
            "metadata": {},
            "outputs": [
                {
                    "data": {
                        "text/html": "<div>\n<style scoped>\n    .dataframe tbody tr th:only-of-type {\n        vertical-align: middle;\n    }\n\n    .dataframe tbody tr th {\n        vertical-align: top;\n    }\n\n    .dataframe thead th {\n        text-align: right;\n    }\n</style>\n<table border=\"1\" class=\"dataframe\">\n  <thead>\n    <tr style=\"text-align: right;\">\n      <th></th>\n      <th>District</th>\n      <th>NeighborhoodCode</th>\n      <th>Neighborhood</th>\n      <th>Population (1999)</th>\n      <th>Area (ha)</th>\n      <th>DistrictName</th>\n    </tr>\n  </thead>\n  <tbody>\n    <tr>\n      <th>0</th>\n      <td>1st arrondissement</td>\n      <td>1st</td>\n      <td>Saint-Germain-l'Auxerrois</td>\n      <td>1672</td>\n      <td>86.9</td>\n      <td>Arrondissement du Louvre</td>\n    </tr>\n    <tr>\n      <th>1</th>\n      <td>1st arrondissement</td>\n      <td>2nd</td>\n      <td>Les Halles</td>\n      <td>8984</td>\n      <td>41.2</td>\n      <td>Arrondissement du Louvre</td>\n    </tr>\n    <tr>\n      <th>2</th>\n      <td>1st arrondissement</td>\n      <td>3rd</td>\n      <td>Palais-Royal</td>\n      <td>3195</td>\n      <td>27.4</td>\n      <td>Arrondissement du Louvre</td>\n    </tr>\n    <tr>\n      <th>3</th>\n      <td>1st arrondissement</td>\n      <td>4th</td>\n      <td>Place-Vend\u00f4me</td>\n      <td>3044</td>\n      <td>26.9</td>\n      <td>Arrondissement du Louvre</td>\n    </tr>\n    <tr>\n      <th>4</th>\n      <td>2nd arrondissement</td>\n      <td>5th</td>\n      <td>Gaillon</td>\n      <td>1345</td>\n      <td>18.8</td>\n      <td>Arrondissement de la Bourse</td>\n    </tr>\n  </tbody>\n</table>\n</div>",
                        "text/plain": "             District NeighborhoodCode               Neighborhood  \\\n0  1st arrondissement              1st  Saint-Germain-l'Auxerrois   \n1  1st arrondissement              2nd                 Les Halles   \n2  1st arrondissement              3rd               Palais-Royal   \n3  1st arrondissement              4th              Place-Vend\u00f4me   \n4  2nd arrondissement              5th                    Gaillon   \n\n   Population (1999)  Area (ha)                 DistrictName  \n0               1672       86.9     Arrondissement du Louvre  \n1               8984       41.2     Arrondissement du Louvre  \n2               3195       27.4     Arrondissement du Louvre  \n3               3044       26.9     Arrondissement du Louvre  \n4               1345       18.8  Arrondissement de la Bourse  "
                    },
                    "execution_count": 117,
                    "metadata": {},
                    "output_type": "execute_result"
                }
            ],
            "source": "paris_neighborhoods[['DistrictName']] = paris_neighborhoods.DistrictName.str.replace('Called \\\"', 'Arrondissement ')\nparis_neighborhoods[['DistrictName']] = paris_neighborhoods.DistrictName.str.replace(\"\\\"\\)\", '')\n\nparis_neighborhoods.head()"
        },
        {
            "cell_type": "markdown",
            "metadata": {},
            "source": "Remove letters from the neighborhood code"
        },
        {
            "cell_type": "code",
            "execution_count": 118,
            "metadata": {},
            "outputs": [
                {
                    "data": {
                        "text/html": "<div>\n<style scoped>\n    .dataframe tbody tr th:only-of-type {\n        vertical-align: middle;\n    }\n\n    .dataframe tbody tr th {\n        vertical-align: top;\n    }\n\n    .dataframe thead th {\n        text-align: right;\n    }\n</style>\n<table border=\"1\" class=\"dataframe\">\n  <thead>\n    <tr style=\"text-align: right;\">\n      <th></th>\n      <th>District</th>\n      <th>NeighborhoodCode</th>\n      <th>Neighborhood</th>\n      <th>Population (1999)</th>\n      <th>Area (ha)</th>\n      <th>DistrictName</th>\n    </tr>\n  </thead>\n  <tbody>\n    <tr>\n      <th>0</th>\n      <td>1st arrondissement</td>\n      <td>1</td>\n      <td>Saint-Germain-l'Auxerrois</td>\n      <td>1672</td>\n      <td>86.9</td>\n      <td>Arrondissement du Louvre</td>\n    </tr>\n    <tr>\n      <th>1</th>\n      <td>1st arrondissement</td>\n      <td>2</td>\n      <td>Les Halles</td>\n      <td>8984</td>\n      <td>41.2</td>\n      <td>Arrondissement du Louvre</td>\n    </tr>\n    <tr>\n      <th>2</th>\n      <td>1st arrondissement</td>\n      <td>3</td>\n      <td>Palais-Royal</td>\n      <td>3195</td>\n      <td>27.4</td>\n      <td>Arrondissement du Louvre</td>\n    </tr>\n    <tr>\n      <th>3</th>\n      <td>1st arrondissement</td>\n      <td>4</td>\n      <td>Place-Vend\u00f4me</td>\n      <td>3044</td>\n      <td>26.9</td>\n      <td>Arrondissement du Louvre</td>\n    </tr>\n    <tr>\n      <th>4</th>\n      <td>2nd arrondissement</td>\n      <td>5</td>\n      <td>Gaillon</td>\n      <td>1345</td>\n      <td>18.8</td>\n      <td>Arrondissement de la Bourse</td>\n    </tr>\n  </tbody>\n</table>\n</div>",
                        "text/plain": "             District NeighborhoodCode               Neighborhood  \\\n0  1st arrondissement                1  Saint-Germain-l'Auxerrois   \n1  1st arrondissement                2                 Les Halles   \n2  1st arrondissement                3               Palais-Royal   \n3  1st arrondissement                4              Place-Vend\u00f4me   \n4  2nd arrondissement                5                    Gaillon   \n\n   Population (1999)  Area (ha)                 DistrictName  \n0               1672       86.9     Arrondissement du Louvre  \n1               8984       41.2     Arrondissement du Louvre  \n2               3195       27.4     Arrondissement du Louvre  \n3               3044       26.9     Arrondissement du Louvre  \n4               1345       18.8  Arrondissement de la Bourse  "
                    },
                    "execution_count": 118,
                    "metadata": {},
                    "output_type": "execute_result"
                }
            ],
            "source": "paris_neighborhoods[['NeighborhoodCode']] = paris_neighborhoods.NeighborhoodCode.str[:-2]\n\nparis_neighborhoods.head()"
        },
        {
            "cell_type": "markdown",
            "metadata": {},
            "source": "Add the postal code"
        },
        {
            "cell_type": "code",
            "execution_count": 119,
            "metadata": {},
            "outputs": [
                {
                    "data": {
                        "text/html": "<div>\n<style scoped>\n    .dataframe tbody tr th:only-of-type {\n        vertical-align: middle;\n    }\n\n    .dataframe tbody tr th {\n        vertical-align: top;\n    }\n\n    .dataframe thead th {\n        text-align: right;\n    }\n</style>\n<table border=\"1\" class=\"dataframe\">\n  <thead>\n    <tr style=\"text-align: right;\">\n      <th></th>\n      <th>District</th>\n      <th>NeighborhoodCode</th>\n      <th>Neighborhood</th>\n      <th>Population (1999)</th>\n      <th>Area (ha)</th>\n      <th>DistrictName</th>\n      <th>PostalCode</th>\n    </tr>\n  </thead>\n  <tbody>\n    <tr>\n      <th>0</th>\n      <td>1st arrondissement</td>\n      <td>1</td>\n      <td>Saint-Germain-l'Auxerrois</td>\n      <td>1672</td>\n      <td>86.9</td>\n      <td>Arrondissement du Louvre</td>\n      <td>75001</td>\n    </tr>\n    <tr>\n      <th>1</th>\n      <td>1st arrondissement</td>\n      <td>2</td>\n      <td>Les Halles</td>\n      <td>8984</td>\n      <td>41.2</td>\n      <td>Arrondissement du Louvre</td>\n      <td>75001</td>\n    </tr>\n    <tr>\n      <th>2</th>\n      <td>1st arrondissement</td>\n      <td>3</td>\n      <td>Palais-Royal</td>\n      <td>3195</td>\n      <td>27.4</td>\n      <td>Arrondissement du Louvre</td>\n      <td>75001</td>\n    </tr>\n    <tr>\n      <th>3</th>\n      <td>1st arrondissement</td>\n      <td>4</td>\n      <td>Place-Vend\u00f4me</td>\n      <td>3044</td>\n      <td>26.9</td>\n      <td>Arrondissement du Louvre</td>\n      <td>75001</td>\n    </tr>\n    <tr>\n      <th>4</th>\n      <td>2nd arrondissement</td>\n      <td>5</td>\n      <td>Gaillon</td>\n      <td>1345</td>\n      <td>18.8</td>\n      <td>Arrondissement de la Bourse</td>\n      <td>75002</td>\n    </tr>\n  </tbody>\n</table>\n</div>",
                        "text/plain": "             District NeighborhoodCode               Neighborhood  \\\n0  1st arrondissement                1  Saint-Germain-l'Auxerrois   \n1  1st arrondissement                2                 Les Halles   \n2  1st arrondissement                3               Palais-Royal   \n3  1st arrondissement                4              Place-Vend\u00f4me   \n4  2nd arrondissement                5                    Gaillon   \n\n   Population (1999)  Area (ha)                 DistrictName PostalCode  \n0               1672       86.9     Arrondissement du Louvre      75001  \n1               8984       41.2     Arrondissement du Louvre      75001  \n2               3195       27.4     Arrondissement du Louvre      75001  \n3               3044       26.9     Arrondissement du Louvre      75001  \n4               1345       18.8  Arrondissement de la Bourse      75002  "
                    },
                    "execution_count": 119,
                    "metadata": {},
                    "output_type": "execute_result"
                }
            ],
            "source": "paris_neighborhoods['PostalCode'] = '750' + paris_neighborhoods.District.str.split(' ').str[0].str[:-2].str.rjust(2, '0')\n\nparis_neighborhoods.head()"
        },
        {
            "cell_type": "markdown",
            "metadata": {},
            "source": "Reorganize columns"
        },
        {
            "cell_type": "code",
            "execution_count": 120,
            "metadata": {},
            "outputs": [
                {
                    "data": {
                        "text/html": "<div>\n<style scoped>\n    .dataframe tbody tr th:only-of-type {\n        vertical-align: middle;\n    }\n\n    .dataframe tbody tr th {\n        vertical-align: top;\n    }\n\n    .dataframe thead th {\n        text-align: right;\n    }\n</style>\n<table border=\"1\" class=\"dataframe\">\n  <thead>\n    <tr style=\"text-align: right;\">\n      <th></th>\n      <th>PostalCode</th>\n      <th>District</th>\n      <th>DistrictName</th>\n      <th>NeighborhoodCode</th>\n      <th>Neighborhood</th>\n      <th>Population (1999)</th>\n      <th>Area (ha)</th>\n    </tr>\n  </thead>\n  <tbody>\n    <tr>\n      <th>0</th>\n      <td>75001</td>\n      <td>1st arrondissement</td>\n      <td>Arrondissement du Louvre</td>\n      <td>1</td>\n      <td>Saint-Germain-l'Auxerrois</td>\n      <td>1672</td>\n      <td>86.9</td>\n    </tr>\n    <tr>\n      <th>1</th>\n      <td>75001</td>\n      <td>1st arrondissement</td>\n      <td>Arrondissement du Louvre</td>\n      <td>2</td>\n      <td>Les Halles</td>\n      <td>8984</td>\n      <td>41.2</td>\n    </tr>\n    <tr>\n      <th>2</th>\n      <td>75001</td>\n      <td>1st arrondissement</td>\n      <td>Arrondissement du Louvre</td>\n      <td>3</td>\n      <td>Palais-Royal</td>\n      <td>3195</td>\n      <td>27.4</td>\n    </tr>\n    <tr>\n      <th>3</th>\n      <td>75001</td>\n      <td>1st arrondissement</td>\n      <td>Arrondissement du Louvre</td>\n      <td>4</td>\n      <td>Place-Vend\u00f4me</td>\n      <td>3044</td>\n      <td>26.9</td>\n    </tr>\n    <tr>\n      <th>4</th>\n      <td>75002</td>\n      <td>2nd arrondissement</td>\n      <td>Arrondissement de la Bourse</td>\n      <td>5</td>\n      <td>Gaillon</td>\n      <td>1345</td>\n      <td>18.8</td>\n    </tr>\n  </tbody>\n</table>\n</div>",
                        "text/plain": "  PostalCode            District                 DistrictName  \\\n0      75001  1st arrondissement     Arrondissement du Louvre   \n1      75001  1st arrondissement     Arrondissement du Louvre   \n2      75001  1st arrondissement     Arrondissement du Louvre   \n3      75001  1st arrondissement     Arrondissement du Louvre   \n4      75002  2nd arrondissement  Arrondissement de la Bourse   \n\n  NeighborhoodCode               Neighborhood  Population (1999)  Area (ha)  \n0                1  Saint-Germain-l'Auxerrois               1672       86.9  \n1                2                 Les Halles               8984       41.2  \n2                3               Palais-Royal               3195       27.4  \n3                4              Place-Vend\u00f4me               3044       26.9  \n4                5                    Gaillon               1345       18.8  "
                    },
                    "execution_count": 120,
                    "metadata": {},
                    "output_type": "execute_result"
                }
            ],
            "source": "paris_neighborhoods = paris_neighborhoods[['PostalCode', 'District', 'DistrictName', 'NeighborhoodCode', 'Neighborhood', 'Population (1999)', 'Area (ha)']]\n\nparis_neighborhoods.head()"
        },
        {
            "cell_type": "code",
            "execution_count": null,
            "metadata": {},
            "outputs": [
                {
                    "name": "stdout",
                    "output_type": "stream",
                    "text": "Solving environment: \\ "
                }
            ],
            "source": "!conda install -c conda-forge folium=0.5.0 --yes\nimport folium\n\nprint('Folium installed and imported!')"
        },
        {
            "cell_type": "code",
            "execution_count": null,
            "metadata": {},
            "outputs": [],
            "source": "!wget --quiet https://opendata.paris.fr/explore/dataset/quartier_paris/download/?format=geojson&timezone=Europe/Berlin&lang=fr -O paris_neighborhood_geo.json\n\nprint('GeoJSON file downloaded!')"
        },
        {
            "cell_type": "code",
            "execution_count": null,
            "metadata": {},
            "outputs": [],
            "source": "paris_neighborhood_geo = r'paris_neighborhood_geo.json' # geojson file\n\n# create a plain world map\nparis_map = folium.Map(location=[48.866667, 2.333333], zoom_start=10, tiles='Mapbox Bright')"
        },
        {
            "cell_type": "code",
            "execution_count": null,
            "metadata": {},
            "outputs": [],
            "source": "# generate choropleth map using the total immigration of each country to Canada from 1980 to 2013\nparis_map.choropleth(\n    geo_data=paris_neighborhood_geo,\n    data=paris_neighborhood,\n    columns=['NeighborhoodCode', 'Population (1999)\t'],\n    key_on='feature.properties.c_qu',\n    fill_color='YlOrRd', \n    fill_opacity=0.7, \n    line_opacity=0.2,\n    legend_name='Neighborhoods of Paris'\n)\n\n# display map\nparis_map"
        },
        {
            "cell_type": "code",
            "execution_count": null,
            "metadata": {},
            "outputs": [],
            "source": ""
        },
        {
            "cell_type": "code",
            "execution_count": null,
            "metadata": {},
            "outputs": [],
            "source": ""
        },
        {
            "cell_type": "code",
            "execution_count": null,
            "metadata": {},
            "outputs": [],
            "source": ""
        },
        {
            "cell_type": "code",
            "execution_count": null,
            "metadata": {},
            "outputs": [],
            "source": ""
        }
    ],
    "metadata": {
        "kernelspec": {
            "display_name": "Python 3.6",
            "language": "python",
            "name": "python3"
        },
        "language_info": {
            "codemirror_mode": {
                "name": "ipython",
                "version": 3
            },
            "file_extension": ".py",
            "mimetype": "text/x-python",
            "name": "python",
            "nbconvert_exporter": "python",
            "pygments_lexer": "ipython3",
            "version": "3.6.9"
        }
    },
    "nbformat": 4,
    "nbformat_minor": 1
}