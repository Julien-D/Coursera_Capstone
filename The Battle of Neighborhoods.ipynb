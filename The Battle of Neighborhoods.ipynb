{
    "cells": [
        {
            "cell_type": "code",
            "execution_count": null,
            "metadata": {},
            "outputs": [],
            "source": "# The code was removed by Watson Studio for sharing."
        },
        {
            "cell_type": "code",
            "execution_count": null,
            "metadata": {},
            "outputs": [],
            "source": "PARIS_COORDINATES = [48.866667, 2.333333]\nFOURSQUARE_CATEGORY = '4bf58dd8d48988d1ce941735' #category for seafood restaurants, see https://developer.foursquare.com/docs/build-with-foursquare/categories/\nFOURSQUARE_RADIUS = 1500 #Radius that should allow to cover every neighborhood\nFOURSQUARE_LIMIT = 100\nFOURSQUARE_UPDATE = True #Do we search the data in Foursquare or do we use the local data? This field is useful to avoid reaching the maximum queries per day"
        },
        {
            "cell_type": "code",
            "execution_count": null,
            "metadata": {},
            "outputs": [],
            "source": "# The code was removed by Watson Studio for sharing."
        },
        {
            "cell_type": "markdown",
            "metadata": {
                "collapsed": true
            },
            "source": "## Get data about Paris neighborhoods"
        },
        {
            "cell_type": "markdown",
            "metadata": {},
            "source": "Le quartier d\u00e9signe la division administrative de l\u2019arrondissement. Chaque arrondissement est d\u00e9coup\u00e9\nen quatre quartiers administratifs. Paris compte ainsi quatre-vingt quartiers administratifs.\n\nhttps://en.wikipedia.org/wiki/Demographics_of_Paris#/media/File:Paris_Historical_Population.png\n\nATTENTION AU COPIE DE DF VS NOUVEAU DF => REVOIR COURSERA"
        },
        {
            "cell_type": "markdown",
            "metadata": {},
            "source": "### Import libraries"
        },
        {
            "cell_type": "code",
            "execution_count": null,
            "metadata": {},
            "outputs": [],
            "source": "import pandas as pd\nprint('pandas library imported.')\nimport numpy as np\nprint('numpy library imported.')\nimport requests\nprint('requests library imported.')\nfrom bs4 import BeautifulSoup\nprint('BeautifulSoup library imported.')\nimport json\nprint('json imported.')\n\nprint('All libraries imported.')"
        },
        {
            "cell_type": "markdown",
            "metadata": {},
            "source": "### Get the data about neighborhoods of Paris"
        },
        {
            "cell_type": "markdown",
            "metadata": {},
            "source": "Get a csv from the site of the City of Paris: https://opendata.paris.fr/explore/dataset/quartier_paris/export/"
        },
        {
            "cell_type": "code",
            "execution_count": null,
            "metadata": {},
            "outputs": [],
            "source": "!wget --quiet https://opendata.paris.fr/explore/dataset/quartier_paris/download/?format=csv -O paris_neighborhoods.csv\n\nprint('CSV file downloaded.')"
        },
        {
            "cell_type": "code",
            "execution_count": null,
            "metadata": {},
            "outputs": [],
            "source": "paris_neighborhoods = pd.read_csv('paris_neighborhoods.csv', sep=';')\n\nprint('The dataframe shape is {}.'.format(paris_neighborhoods.shape))\n\nparis_neighborhoods.head()"
        },
        {
            "cell_type": "code",
            "execution_count": null,
            "metadata": {},
            "outputs": [],
            "source": "project.save_data(file_name='paris_opendata.csv', data=paris_neighborhoods.to_csv(index=False), overwrite=True)\n\nprint('File paris_opendata.csv saved.')"
        },
        {
            "cell_type": "markdown",
            "metadata": {},
            "source": "### Cleaning the dataframe"
        },
        {
            "cell_type": "markdown",
            "metadata": {},
            "source": "Drop the columns we will not use"
        },
        {
            "cell_type": "code",
            "execution_count": null,
            "metadata": {},
            "outputs": [],
            "source": "paris_neighborhoods.drop(['n_sq_qu', 'geom', 'n_sq_ar'], axis='columns', inplace=True)\n\nprint('The dataframe shape is {}.'.format(paris_neighborhoods.shape))\nparis_neighborhoods.head()"
        },
        {
            "cell_type": "markdown",
            "metadata": {},
            "source": "Rename the columns"
        },
        {
            "cell_type": "code",
            "execution_count": null,
            "metadata": {},
            "outputs": [],
            "source": "paris_neighborhoods.columns = ['NeighborhoodNumber', 'NeighborhoodCode', 'Neighborhood', 'DistrictNumber', 'Perimeter', 'Area', 'Coordinates']\n\nprint('The dataframe shape is {}.'.format(paris_neighborhoods.shape))\nparis_neighborhoods.head()"
        },
        {
            "cell_type": "markdown",
            "metadata": {},
            "source": "Split the coordinates in 2 columns"
        },
        {
            "cell_type": "code",
            "execution_count": null,
            "metadata": {},
            "outputs": [],
            "source": "paris_neighborhoods[['Latitude', 'Longitude']] = paris_neighborhoods.Coordinates.str.split(\",\", expand=True)\nparis_neighborhoods.drop(['Coordinates'], axis='columns', inplace=True)\n\nprint('The dataframe shape is {}.'.format(paris_neighborhoods.shape))\nparis_neighborhoods.head()"
        },
        {
            "cell_type": "markdown",
            "metadata": {},
            "source": "Convert area to square kilometers"
        },
        {
            "cell_type": "code",
            "execution_count": null,
            "metadata": {},
            "outputs": [],
            "source": "paris_neighborhoods[['Area']] = paris_neighborhoods[['Area']]/1e6\n\nprint('The dataframe shape is {}.'.format(paris_neighborhoods.shape))\nparis_neighborhoods.head()"
        },
        {
            "cell_type": "markdown",
            "metadata": {},
            "source": "Get more information from Wikipedia\nScrape the wikipedia page about the neighborhoods of Paris: https://en.wikipedia.org/wiki/Quarters_of_Paris"
        },
        {
            "cell_type": "code",
            "execution_count": null,
            "metadata": {},
            "outputs": [],
            "source": "result = requests.get(\"https://en.wikipedia.org/wiki/Quarters_of_Paris\")\nsoup = BeautifulSoup(result.content,'lxml')\ntable = soup.find_all('table')[0] \nparis_neighborhoods_wikipedia = pd.read_html(str(table))[0]\n\nprint('The dataframe shape is {}.'.format(paris_neighborhoods_wikipedia.shape))\nparis_neighborhoods_wikipedia.head()"
        },
        {
            "cell_type": "markdown",
            "metadata": {},
            "source": "Drop the columns we will not use"
        },
        {
            "cell_type": "code",
            "execution_count": null,
            "metadata": {},
            "outputs": [],
            "source": "paris_neighborhoods_wikipedia.drop(['Quartiers(Quarters).1', 'Area(hectares)[3]', 'Map'], axis='columns', inplace=True)\n\nprint('The dataframe shape is {}.'.format(paris_neighborhoods_wikipedia.shape))\nparis_neighborhoods_wikipedia.head()"
        },
        {
            "cell_type": "markdown",
            "metadata": {},
            "source": "Rename the columns"
        },
        {
            "cell_type": "code",
            "execution_count": null,
            "metadata": {},
            "outputs": [],
            "source": "paris_neighborhoods_wikipedia.columns = ['District', 'NeighborhoodNumber', 'Population']\n\nprint('The dataframe shape is {}.'.format(paris_neighborhoods_wikipedia.shape))\nparis_neighborhoods_wikipedia.head()"
        },
        {
            "cell_type": "markdown",
            "metadata": {},
            "source": "Split the district official name (number of the \"arrondissement\") and the \"also called\" named (which is not commonly used in Paris)"
        },
        {
            "cell_type": "code",
            "execution_count": null,
            "metadata": {},
            "outputs": [],
            "source": "paris_neighborhoods_wikipedia[['District', 'DistrictName']] = paris_neighborhoods_wikipedia.District.str.split(\"(\",expand=True,)\n\nprint('The dataframe shape is {}.'.format(paris_neighborhoods_wikipedia.shape))\nparis_neighborhoods_wikipedia.head()"
        },
        {
            "cell_type": "markdown",
            "metadata": {},
            "source": "Make the district name more beautiful"
        },
        {
            "cell_type": "code",
            "execution_count": null,
            "metadata": {},
            "outputs": [],
            "source": "paris_neighborhoods_wikipedia[['DistrictName']] = paris_neighborhoods_wikipedia.DistrictName.str.replace('Called \\\"', 'Arrondissement ')\nparis_neighborhoods_wikipedia[['DistrictName']] = paris_neighborhoods_wikipedia.DistrictName.str.replace(\"\\\"\\)\", '')\n\nprint('The dataframe shape is {}.'.format(paris_neighborhoods_wikipedia.shape))\nparis_neighborhoods_wikipedia.head()"
        },
        {
            "cell_type": "markdown",
            "metadata": {},
            "source": "Remove letters from the neighborhood code"
        },
        {
            "cell_type": "code",
            "execution_count": null,
            "metadata": {},
            "outputs": [],
            "source": "paris_neighborhoods_wikipedia[['NeighborhoodNumber']] = paris_neighborhoods_wikipedia.NeighborhoodNumber.str[:-2]\nparis_neighborhoods_wikipedia = paris_neighborhoods_wikipedia.astype({'NeighborhoodNumber': int})\n\nprint('The dataframe shape is {}.'.format(paris_neighborhoods_wikipedia.shape))\nparis_neighborhoods_wikipedia.head()"
        },
        {
            "cell_type": "code",
            "execution_count": null,
            "metadata": {},
            "outputs": [],
            "source": "paris_neighborhoods = pd.merge(paris_neighborhoods, paris_neighborhoods_wikipedia, on='NeighborhoodNumber')\n\nprint('The dataframe shape is {}.'.format(paris_neighborhoods.shape))\nparis_neighborhoods.head()"
        },
        {
            "cell_type": "markdown",
            "metadata": {},
            "source": "Add the postal code"
        },
        {
            "cell_type": "code",
            "execution_count": null,
            "metadata": {},
            "outputs": [],
            "source": "paris_neighborhoods['PostalCode'] = '750' + paris_neighborhoods.District.str.split(' ').str[0].str[:-2].str.rjust(2, '0')\n\nprint('The dataframe shape is {}.'.format(paris_neighborhoods.shape))\nparis_neighborhoods.head()"
        },
        {
            "cell_type": "markdown",
            "metadata": {},
            "source": "Reorganize columns"
        },
        {
            "cell_type": "code",
            "execution_count": null,
            "metadata": {},
            "outputs": [],
            "source": "paris_neighborhoods = paris_neighborhoods[['NeighborhoodCode', 'NeighborhoodNumber', 'Neighborhood', 'DistrictNumber', 'District', 'DistrictName', 'PostalCode', 'Population', 'Area', 'Perimeter', 'Latitude', 'Longitude']]\n\nparis_neighborhoods.head()"
        },
        {
            "cell_type": "markdown",
            "metadata": {},
            "source": "Check the type of each column"
        },
        {
            "cell_type": "code",
            "execution_count": null,
            "metadata": {},
            "outputs": [],
            "source": "paris_neighborhoods.dtypes"
        },
        {
            "cell_type": "markdown",
            "metadata": {},
            "source": "Cast PostalCode and NeighborhoodCode columns to integer"
        },
        {
            "cell_type": "code",
            "execution_count": null,
            "metadata": {},
            "outputs": [],
            "source": "paris_neighborhoods = paris_neighborhoods.astype({'PostalCode': int, 'Latitude': float, 'Longitude': float})\n\nparis_neighborhoods.dtypes"
        },
        {
            "cell_type": "code",
            "execution_count": null,
            "metadata": {},
            "outputs": [],
            "source": "project.save_data(file_name='paris_neighborhoods.csv', data=paris_neighborhoods.to_csv(index=False), overwrite=True)\n\nprint('File paris_neighborhoods.csv saved.')"
        },
        {
            "cell_type": "markdown",
            "metadata": {},
            "source": "## Some visual analysis of the neighborhoods"
        },
        {
            "cell_type": "markdown",
            "metadata": {},
            "source": "### Choropleth map"
        },
        {
            "cell_type": "code",
            "execution_count": null,
            "metadata": {},
            "outputs": [],
            "source": "try:\n    import folium\nexcept:\n    print('folium not installed, installing folium.')\n    !conda install -c conda-forge shapely\n    print('folium installed.')\n    import folium\nprint('folium imported.')\n\nprint('All libraries imported.')"
        },
        {
            "cell_type": "code",
            "execution_count": null,
            "metadata": {},
            "outputs": [],
            "source": "!wget --quiet https://opendata.paris.fr/explore/dataset/quartier_paris/download/?format=geojson -O paris_neighborhoods_geo.json\n\nprint('GeoJSON file downloaded.')\n\nwith open('paris_neighborhoods_geo.json') as geojson:\n    paris_neighborhoods_geo = json.load(geojson)\nproject.save_data(file_name='paris_neighborhoods_geo.json', data=json.dumps(paris_neighborhoods_geo), overwrite=True)\nprint('File paris_neighborhoods_geo.json saved.')"
        },
        {
            "cell_type": "code",
            "execution_count": null,
            "metadata": {},
            "outputs": [],
            "source": "paris_neighborhoods_geo = r'paris_neighborhoods_geo.json'"
        },
        {
            "cell_type": "code",
            "execution_count": null,
            "metadata": {},
            "outputs": [],
            "source": "paris_map = folium.Map(location=PARIS_COORDINATES, zoom_start=13, tiles='OpenStreetMap')\n\nchoropleth = folium.Choropleth(\n    geo_data=paris_neighborhoods_geo,\n    data=paris_neighborhoods,\n    columns=['NeighborhoodCode', 'Population'],\n    key_on='feature.properties.c_quinsee',\n    fill_color='YlOrRd', \n    fill_opacity=0.7, \n    line_opacity=0.2,\n    legend_name='Neighborhoods of Paris by population in 1999'\n).add_to(paris_map)\n\nchoropleth.geojson.add_child(\n    folium.features.GeoJsonTooltip(['l_qu'],labels=False)\n).add_to(paris_map)\n\n# display map\nparis_map"
        },
        {
            "cell_type": "markdown",
            "metadata": {},
            "source": "### Scatter plot"
        },
        {
            "cell_type": "code",
            "execution_count": null,
            "metadata": {},
            "outputs": [],
            "source": "import matplotlib.pyplot as plt\nprint('pyplot library imported.')\n\nprint('All libraries imported.')"
        },
        {
            "cell_type": "code",
            "execution_count": null,
            "metadata": {},
            "outputs": [],
            "source": "scatter_plot_df = paris_neighborhoods[['Neighborhood', 'Population', 'Area']]\n\nprint('The dataframe shape is {}.'.format(scatter_plot_df.shape))\nscatter_plot_df.head()"
        },
        {
            "cell_type": "code",
            "execution_count": null,
            "metadata": {},
            "outputs": [],
            "source": "scatter_plot_df.plot(kind='scatter', x='Area', y='Population', figsize=(20, 12), color='darkblue')\n\nplt.title('Population in 1999 compared to area for each neighborhood of Paris')\nplt.xlabel('Area (km\u00b2)')\nplt.ylabel('Population')\n\nplt.show()"
        },
        {
            "cell_type": "code",
            "execution_count": null,
            "metadata": {},
            "outputs": [],
            "source": "bar_chart_df = paris_neighborhoods[['Neighborhood', 'District', 'Population', 'Area']]\nbar_chart_df.set_index(['District', 'Neighborhood'], inplace=True)\n\nbar_chart_df['Density'] = bar_chart_df['Population'] / bar_chart_df['Area']\n\nprint('The dataframe shape is {}.'.format(bar_chart_df.shape))\nbar_chart_df.head()"
        },
        {
            "cell_type": "code",
            "execution_count": null,
            "metadata": {},
            "outputs": [],
            "source": "bar_chart_neighborhood_df = bar_chart_df[['Density']].sort_values(by=['Density'], ascending=True)\n\nprint('The dataframe shape is {}.'.format(bar_chart_neighborhood_df.shape))\nbar_chart_neighborhood_df.head()"
        },
        {
            "cell_type": "code",
            "execution_count": null,
            "metadata": {},
            "outputs": [],
            "source": "bar_chart_neighborhood_df.plot(kind='barh', figsize=(20, 24))\n\nplt.xlabel('Neighborhood')\nplt.ylabel('Density')\nplt.title('Density of neighborhoods of Paris in 1999')\nplt.legend().remove()\n\nplt.show()"
        },
        {
            "cell_type": "code",
            "execution_count": null,
            "metadata": {},
            "outputs": [],
            "source": "bar_chart_district_df = bar_chart_df.groupby('District').sum()\nbar_chart_district_df['Density'] = bar_chart_district_df['Population'] / bar_chart_district_df['Area']\nbar_chart_district_df = bar_chart_district_df[['Density']].sort_values(by=['Density'], ascending=True)\n\nprint('The dataframe shape is {}.'.format(bar_chart_district_df.shape))\nbar_chart_district_df.head()"
        },
        {
            "cell_type": "code",
            "execution_count": null,
            "metadata": {},
            "outputs": [],
            "source": "bar_chart_district_df.plot(kind='barh', figsize=(20, 6))\n\nplt.xlabel('District')\nplt.ylabel('Density')\nplt.title('Density of districts of Paris in 1999')\nplt.legend().remove()\n\nplt.show()"
        },
        {
            "cell_type": "markdown",
            "metadata": {},
            "source": "## Analyse the localisation of seafood restaurants"
        },
        {
            "cell_type": "code",
            "execution_count": null,
            "metadata": {},
            "outputs": [],
            "source": "def get_venues(latitude, longitude, category=FOURSQUARE_CATEGORY, radius=FOURSQUARE_RADIUS, limit=FOURSQUARE_LIMIT):\n    url = 'https://api.foursquare.com/v2/venues/search?&client_id={}&client_secret={}&v={}&ll={},{}&categoryId={}&radius={}&limit={}&intent=browse'.format(\n            FOURSQUARE_CLIENT_ID, \n            FOURSQUARE_CLIENT_SECRET, \n            FOURSQUARE_VERSION, \n            latitude, \n            longitude,\n            category,\n            radius, \n            limit)\n    \n    results = requests.get(url).json()\n    \n    venues = []\n    for venue in results['response']['venues']:\n        try:\n            id = venue['id']\n            name = venue['name']\n            latitude = venue['location']['lat']\n            longitude = venue['location']['lng']\n            venues.append([id, name, latitude, longitude])\n        except KeyError:\n            pass\n    \n    columns = ['id', 'Name', 'Latitude', 'Longitude']\n    \n    df = pd.DataFrame(venues,columns=columns)\n    return df"
        },
        {
            "cell_type": "code",
            "execution_count": null,
            "metadata": {},
            "outputs": [],
            "source": "venues = None\n\nif FOURSQUARE_UPDATE:\n    for id, neighborhood in paris_neighborhoods.iterrows():\n        venues_neighborhood = get_venues(neighborhood['Latitude'], neighborhood['Longitude'])\n        venues = pd.concat([venues, venues_neighborhood], ignore_index=True, sort=False)\n    venues.drop_duplicates(subset='id', keep='first', inplace=True) \n    project.save_data(file_name='venues.csv', data=venues.to_csv(index=False), overwrite=True)\n    print('File venues.csv saved.')\nelse:\n    venues_file = project.get_file('venues.csv')\n    venues = pd.read_csv(venues_file)\n    print('File venues.csv loaded.')\n\nprint('The dataframe shape is {}.'.format(venues.shape))\nvenues.head()"
        },
        {
            "cell_type": "code",
            "execution_count": null,
            "metadata": {},
            "outputs": [],
            "source": "venues.dtypes"
        },
        {
            "cell_type": "code",
            "execution_count": null,
            "metadata": {},
            "outputs": [],
            "source": "venues.describe()"
        },
        {
            "cell_type": "code",
            "execution_count": null,
            "metadata": {},
            "outputs": [],
            "source": "try:\n    from shapely.geometry import Point, shape\nexcept:\n    print('shapely not installed, installing folium.')\n    !conda install -c conda-forge shapely\n    print('shapely installed.')\n    from shapely.geometry import Point, shape\nprint('shapely.geometry imported.')\n\nprint('All libraries imported.')"
        },
        {
            "cell_type": "code",
            "execution_count": null,
            "metadata": {},
            "outputs": [],
            "source": "seafood_restaurants_paris = pd.DataFrame(columns=['id', 'Name', 'Latitude', 'Longitude', 'NeighborhoodCode'])\n\nparis_neighborhoods_geo_file = project.get_file('paris_neighborhoods_geo.json')\nparis_neighborhoods_geo = pd.read_json(paris_neighborhoods_geo_file)\nprint('File paris_neighborhoods_geo.json loaded.')\n\nfor id, venue in venues.iterrows():\n    venue_location = Point(venue['Longitude'], venue['Latitude'])\n\n    for feature in paris_neighborhoods_geo['features']:\n        neighborhood = shape(feature['geometry'])\n        if venue_location.within(neighborhood):\n            seafood_restaurants_paris = seafood_restaurants_paris.append({'id': venue['id'], 'Name': venue['Name'], 'Latitude': venue['Latitude'], 'Longitude': venue['Longitude'], 'NeighborhoodCode': feature['properties']['c_quinsee']}, ignore_index=True, sort=False)\n            break\n\nprint('The dataframe shape is {}.'.format(seafood_restaurants_paris.shape))\nseafood_restaurants_paris.head()"
        },
        {
            "cell_type": "code",
            "execution_count": null,
            "metadata": {},
            "outputs": [],
            "source": "project.save_data(file_name='seafood_restaurants_paris.csv', data=seafood_restaurants_paris.to_csv(index=False), overwrite=True)\nprint('File seafood_restaurants_paris.csv saved.')"
        },
        {
            "cell_type": "code",
            "execution_count": null,
            "metadata": {},
            "outputs": [],
            "source": "seafood_restaurants = folium.map.FeatureGroup()\n\nfor latitude, longitude, venueName in seafood_restaurants_paris[['Latitude', 'Longitude', 'Name']].values:\n    seafood_restaurants.add_child(\n        folium.CircleMarker(\n            [latitude, longitude],\n            radius=5,\n            color='blue',\n            fill=True,\n            fill_color='blue',\n            fill_opacity=0.6,\n            popup=venueName\n        )\n    )\n    \nparis_map.add_child(seafood_restaurants)\n\nparis_map"
        },
        {
            "cell_type": "code",
            "execution_count": null,
            "metadata": {},
            "outputs": [],
            "source": "bar_chart_df = pd.merge(paris_neighborhoods[['NeighborhoodCode', 'Neighborhood', 'District',]], seafood_restaurants_paris[['NeighborhoodCode', 'id']], on='NeighborhoodCode', how='outer')\nbar_chart_df.drop(['NeighborhoodCode'], axis='columns', inplace=True)\nbar_chart_df.set_index(['District', 'Neighborhood'], inplace=True)\n\nprint('The dataframe shape is {}.'.format(bar_chart_df.shape))\nbar_chart_df.head()"
        },
        {
            "cell_type": "code",
            "execution_count": null,
            "metadata": {},
            "outputs": [],
            "source": "bar_chart_neighborhood_df = bar_chart_df.groupby(['District', 'Neighborhood']).count()\nbar_chart_neighborhood_df.rename(columns={'id': 'VenueCount'}, inplace=True)\nbar_chart_neighborhood_df = bar_chart_neighborhood_df.sort_values(by=['VenueCount'], ascending=True)\n\nprint('The dataframe shape is {}.'.format(bar_chart_neighborhood_df.shape))\nbar_chart_neighborhood_df.head()"
        },
        {
            "cell_type": "code",
            "execution_count": null,
            "metadata": {},
            "outputs": [],
            "source": "bar_chart_neighborhood_df.plot(kind='barh', figsize=(20, 24))\n\nplt.xlabel('Number of seafood restaurants')\nplt.ylabel('Neighborhood')\nplt.title('Number of seafood restaurants per neighborhood')\nplt.legend().remove()\n\nplt.show()"
        },
        {
            "cell_type": "code",
            "execution_count": null,
            "metadata": {},
            "outputs": [],
            "source": "bar_chart_neighborhood_df2 = pd.merge(bar_chart_neighborhood_df, paris_neighborhoods, on='Neighborhood')\nbar_chart_neighborhood_df2 = bar_chart_neighborhood_df2[['Neighborhood', 'VenueCount', 'District', 'Population']]\nbar_chart_neighborhood_df2['VenuePerMillionInhabitants'] = bar_chart_neighborhood_df2['VenueCount'] / bar_chart_neighborhood_df2['Population'] * 1e6\nbar_chart_neighborhood_df2 = bar_chart_neighborhood_df2[['Neighborhood', 'VenuePerMillionInhabitants', 'District']]\nbar_chart_neighborhood_df2.set_index(['District', 'Neighborhood'], inplace=True)\nbar_chart_neighborhood_df2 = bar_chart_neighborhood_df2.sort_values(by=['VenuePerMillionInhabitants'], ascending=True)\n\nprint('The dataframe shape is {}.'.format(bar_chart_neighborhood_df2.shape))\nbar_chart_neighborhood_df2.head()"
        },
        {
            "cell_type": "code",
            "execution_count": null,
            "metadata": {},
            "outputs": [],
            "source": "bar_chart_neighborhood_df2.plot(kind='barh', figsize=(20, 24))\n\nplt.xlabel('Number of seafood restaurants per million inhabitants')\nplt.ylabel('Neighborhood')\nplt.title('Number of seafood restaurants per million inhabitants per neighborhood')\nplt.legend().remove()\n\nplt.show()"
        },
        {
            "cell_type": "code",
            "execution_count": null,
            "metadata": {},
            "outputs": [],
            "source": "bar_chart_district_df = bar_chart_df.groupby(['District']).count()\nbar_chart_district_df.rename(columns={'id': 'VenueCount'}, inplace=True)\nbar_chart_district_df = bar_chart_district_df.sort_values(by=['VenueCount'], ascending=True)\n\nprint('The dataframe shape is {}.'.format(bar_chart_district_df.shape))\nbar_chart_district_df.head()"
        },
        {
            "cell_type": "code",
            "execution_count": null,
            "metadata": {},
            "outputs": [],
            "source": "bar_chart_district_df.plot(kind='barh', figsize=(20, 6))\n\nplt.xlabel('Number of seafood restaurants')\nplt.ylabel('District')\nplt.title('Number of seafood restaurants per district')\nplt.legend().remove()\n\nplt.show()"
        },
        {
            "cell_type": "code",
            "execution_count": null,
            "metadata": {},
            "outputs": [],
            "source": "bar_chart_district_df2 = pd.merge(bar_chart_neighborhood_df, paris_neighborhoods, on='Neighborhood')\nbar_chart_district_df2 = bar_chart_district_df2[['VenueCount', 'District', 'Population']]\nbar_chart_district_df2 = bar_chart_district_df2.groupby(['District']).sum()\nbar_chart_district_df2['VenuePerMillionInhabitants'] = bar_chart_district_df2['VenueCount'] / bar_chart_district_df2['Population'] * 1e6\nbar_chart_district_df2 = bar_chart_district_df2[['VenuePerMillionInhabitants']]\nbar_chart_district_df2 = bar_chart_district_df2.sort_values(by=['VenuePerMillionInhabitants'], ascending=True)\n\nprint('The dataframe shape is {}.'.format(bar_chart_district_df2.shape))\nbar_chart_district_df2.head()"
        },
        {
            "cell_type": "code",
            "execution_count": null,
            "metadata": {},
            "outputs": [],
            "source": "bar_chart_district_df2.plot(kind='barh', figsize=(20, 6))\n\nplt.xlabel('Number of seafood restaurants per million inhabitants')\nplt.ylabel('District')\nplt.title('Number of seafood restaurants per million inhabitants per district')\nplt.legend().remove()\n\nplt.show()"
        },
        {
            "cell_type": "markdown",
            "metadata": {},
            "source": "## More details regarding seafood restaurants"
        },
        {
            "cell_type": "code",
            "execution_count": null,
            "metadata": {},
            "outputs": [],
            "source": "def get_venue_details(venue_id, category=FOURSQUARE_CATEGORY):\n    url = 'https://api.foursquare.com/v2/venues/{}?&client_id={}&client_secret={}&v={}'.format(\n            venue_id,\n            FOURSQUARE_CLIENT_ID, \n            FOURSQUARE_CLIENT_SECRET, \n            FOURSQUARE_VERSION)\n\n    results = requests.get(url).json()\n    venue_data = results['response']['venue']\n    \n    try:\n        name = venue_data['name']\n    except KeyError:\n        name = np.nan\n    \n    try:\n        price = venue_data['price']['tier']\n    except KeyError:\n        price = np.nan\n    \n    try:\n        price_description = venue_data['price']['message']\n    except KeyError:\n        price_description = np.nan\n    \n    try:\n        rating = venue_data['rating']\n    except KeyError:\n        rating = np.nan\n        \n    try:\n        likes = venue_data['likes']['count']\n    except KeyError:\n        likes = np.nan\n    \n    try:\n        tips_count = venue_data['tips']['count']\n    except KeyError:\n        tips_count = np.nan\n    \n    try:\n        if category is not None:\n            is_primary_category = False\n            for venue_category in venue_data['categories']:\n                if venue_category['id'] == category and venue_category['primary'] is True:\n                    is_primary_category = True\n        else:\n            is_primary_category = np.nan;\n    except KeyError:\n        is_primary_category = np.nan\n        \n    venue = {'id': venue_id, 'Name': name, 'Price': price, 'PriceDescription': price_description, 'Rating': rating, 'Likes': likes, 'TipsCount': tips_count, 'IsPrimaryCategory': is_primary_category}\n\n    return venue"
        },
        {
            "cell_type": "code",
            "execution_count": null,
            "metadata": {},
            "outputs": [],
            "source": "seafood_restaurants_paris_details = pd.DataFrame(columns=['id', 'Name', 'Latitude', 'Longitude', 'Price', 'PriceDescription', 'Rating', 'Likes', 'TipsCount', 'IsPrimaryCategory', 'NeighborhoodCode'])\n\nseafood_restaurants_paris_file = project.get_file('seafood_restaurants_paris.csv')\nseafood_restaurants_paris = pd.read_csv(seafood_restaurants_paris_file)\nprint('File seafood_restaurants_paris.csv loaded.')\n\nif FOURSQUARE_UPDATE:\n    for restaurant_id, restaurant in seafood_restaurants_paris.iterrows():\n        venue_details = get_venue_details(restaurant['id'])\n        seafood_restaurants_paris_details = seafood_restaurants_paris_details.append({'id': restaurant['id'], 'Name': venue_details['Name'], 'Latitude': restaurant['Latitude'], 'Longitude': restaurant['Longitude'], 'Price': venue_details['Price'], 'PriceDescription': venue_details['PriceDescription'], 'Rating': venue_details['Rating'], 'Likes': venue_details['Likes'], 'TipsCount': venue_details['TipsCount'], 'IsPrimaryCategory': venue_details['IsPrimaryCategory'], 'NeighborhoodCode': restaurant['NeighborhoodCode']}, ignore_index=True, sort=False)\n        \n    project.save_data(file_name='seafood_restaurants_paris_details.csv', data=seafood_restaurants_paris_details.to_csv(index=False), overwrite=True)\n    print('File seafood_restaurants_paris_details.csv saved.')\nelse:\n    seafood_restaurants_paris_details_file = project.get_file('seafood_restaurants_paris_details.csv')\n    seafood_restaurants_paris_details = pd.read_csv(seafood_restaurants_paris_details_file)\n    print('File seafood_restaurants_paris_details.csv loaded.')\n\nprint('The dataframe shape is {}.'.format(seafood_restaurants_paris_details.shape))\nseafood_restaurants_paris_details.head()"
        },
        {
            "cell_type": "code",
            "execution_count": null,
            "metadata": {},
            "outputs": [],
            "source": ""
        }
    ],
    "metadata": {
        "kernelspec": {
            "display_name": "Python 3.6",
            "language": "python",
            "name": "python3"
        },
        "language_info": {
            "codemirror_mode": {
                "name": "ipython",
                "version": 3
            },
            "file_extension": ".py",
            "mimetype": "text/x-python",
            "name": "python",
            "nbconvert_exporter": "python",
            "pygments_lexer": "ipython3",
            "version": "3.6.9"
        }
    },
    "nbformat": 4,
    "nbformat_minor": 1
}