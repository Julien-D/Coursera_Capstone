{
    "cells": [
        {
            "cell_type": "markdown",
            "metadata": {
                "collapsed": true
            },
            "source": "# Segmenting and Clustering Neighborhoods in Toronto"
        },
        {
            "cell_type": "markdown",
            "metadata": {},
            "source": "## Question 1 - Scraping Wikipedia"
        },
        {
            "cell_type": "code",
            "execution_count": 1,
            "metadata": {},
            "outputs": [
                {
                    "name": "stdout",
                    "output_type": "stream",
                    "text": "Pandas library imported.\nRequests library imported.\nBeautifulSoup library imported.\nAll libraries imported.\n"
                }
            ],
            "source": "import pandas as pd\nprint('Pandas library imported.')\nimport requests\nprint('Requests library imported.')\nfrom bs4 import BeautifulSoup\nprint('BeautifulSoup library imported.')\n\nprint('All libraries imported.')"
        },
        {
            "cell_type": "markdown",
            "metadata": {},
            "source": "**Scrape the Wikipedia page and transform it into a dataframe with BeautifulSoup and Pandas**"
        },
        {
            "cell_type": "code",
            "execution_count": 2,
            "metadata": {},
            "outputs": [],
            "source": "result = requests.get(\"https://en.wikipedia.org/wiki/List_of_postal_codes_of_Canada:_M\")\nsoup = BeautifulSoup(result.content,'lxml')\ntable = soup.find_all('table')[0] \nneighborhoods = pd.read_html(str(table))[0]"
        },
        {
            "cell_type": "markdown",
            "metadata": {},
            "source": "**The dataframe will consist of three columns: PostalCode, Borough, and Neighborhood**"
        },
        {
            "cell_type": "code",
            "execution_count": 3,
            "metadata": {},
            "outputs": [],
            "source": "# Rename columns according to the assignment\nneighborhoods.columns = ['PostalCode', 'Borough', 'Neighborhood']"
        },
        {
            "cell_type": "markdown",
            "metadata": {},
            "source": "**Only process the cells that have an assigned borough. Ignore cells with a borough that is Not assigned**"
        },
        {
            "cell_type": "code",
            "execution_count": 4,
            "metadata": {},
            "outputs": [],
            "source": "# Remove lines for which column Borough has value \"Not assigned\"\nneighborhoods = neighborhoods[neighborhoods['Borough']!='Not assigned']"
        },
        {
            "cell_type": "markdown",
            "metadata": {},
            "source": "**More than one neighborhood can exist in one postal code area. For example, in the table on the Wikipedia page, you will notice that M5A is listed twice and has two neighborhoods: Harbourfront and Regent Park. These two rows will be combined into one row with the neighborhoods separated with a comma as shown in row 11 in the above table**"
        },
        {
            "cell_type": "code",
            "execution_count": 5,
            "metadata": {},
            "outputs": [],
            "source": "# The Wikipedia data is already grouped by postal code (update since the creation of the assignement?), we just have to replace \" /\" by \",\"\nneighborhoods['Neighborhood'] = neighborhoods['Neighborhood'].str.replace(' /', ',')"
        },
        {
            "cell_type": "markdown",
            "metadata": {},
            "source": "**If a cell has a borough but a Not assigned neighborhood, then the neighborhood will be the same as the borough**"
        },
        {
            "cell_type": "code",
            "execution_count": 6,
            "metadata": {},
            "outputs": [],
            "source": "neighborhoods.loc[neighborhoods['Neighborhood'] =='Not assigned' , 'Neighborhood'] = neighborhoods['Borough']"
        },
        {
            "cell_type": "markdown",
            "metadata": {},
            "source": "**Cleaning**"
        },
        {
            "cell_type": "code",
            "execution_count": 7,
            "metadata": {},
            "outputs": [],
            "source": "# Reset index\nneighborhoods = neighborhoods.reset_index()\nneighborhoods.drop(['index'], axis='columns', inplace=True)"
        },
        {
            "cell_type": "markdown",
            "metadata": {},
            "source": "**In the last cell of your notebook, use the .shape method to print the number of rows of your dataframe**"
        },
        {
            "cell_type": "code",
            "execution_count": 8,
            "metadata": {},
            "outputs": [
                {
                    "name": "stdout",
                    "output_type": "stream",
                    "text": "The dataframe has the following shape: (103, 3).\n"
                }
            ],
            "source": "# Print the shape\nprint('The dataframe has the following shape: {}.'.format(\n        neighborhoods.shape,\n    )\n)"
        },
        {
            "cell_type": "markdown",
            "metadata": {},
            "source": "## Question 2 - Get latitude and logitude of each postal code"
        },
        {
            "cell_type": "code",
            "execution_count": null,
            "metadata": {},
            "outputs": [
                {
                    "name": "stdout",
                    "output_type": "stream",
                    "text": "Solving environment: \\ "
                }
            ],
            "source": "#!conda install -c conda-forge geocoder\nimport geocoder\nprint('Geocoder library imported.')\n\nprint('All libraries imported.')"
        },
        {
            "cell_type": "markdown",
            "metadata": {},
            "source": "**Create a function that will loop until coordinates are obtained from Geocoder**"
        },
        {
            "cell_type": "code",
            "execution_count": null,
            "metadata": {},
            "outputs": [],
            "source": "def get_coordinates_from_geocoder(address):\n    # initialize your variable to None\n    coordinates = None\n\n    # loop until you get the coordinates\n    index = 1\n    while(coordinates is None):\n        print('Iteration {}'.format(index))\n        g = geocoder.google(address)\n        coordinates = g.latlng\n        index = index + 1\n        \n        if index == 25:\n            break\n\n        return coordinates"
        },
        {
            "cell_type": "markdown",
            "metadata": {},
            "source": "**Add 2 new columns to the dataframe**"
        },
        {
            "cell_type": "code",
            "execution_count": null,
            "metadata": {},
            "outputs": [],
            "source": "neighborhoods['Latitude'] = 0\nneighborhoods['Longitude'] = 0"
        },
        {
            "cell_type": "markdown",
            "metadata": {},
            "source": "**Use the function created above to create a new data frame with coordinates**"
        },
        {
            "cell_type": "code",
            "execution_count": null,
            "metadata": {},
            "outputs": [],
            "source": "for index in range(len(neighborhoods)):\n    address = '{}, Toronto, Ontario'.format(neighborhoods.loc[index, 'PostalCode'])\n    print('-----')\n    print('row {} beginning: {}'.format(index, address))\n    coordinates = get_coordinates_from_geocoder(address)\n    if coordinates is not None:\n        neighborhoods.loc[index, 'Latitude'] = coordinates[0]\n        neighborhoods.loc[index, 'Longitude'] = coordinates[1]\n    else:\n        print(\"Error with Google Geocoding\")\n    print('{}%: row {} completed'.format(round(index/len(neighborhoods.index)*100, 1), index))"
        },
        {
            "cell_type": "markdown",
            "metadata": {},
            "source": "**Because Google Geocoding is not working, we are using the provided csv**"
        },
        {
            "cell_type": "code",
            "execution_count": null,
            "metadata": {},
            "outputs": [],
            "source": "# Download the csv file\n!wget -q -O 'Toronto_coordinates.csv' http://cocl.us/Geospatial_data\ntoronto_coordinates = pd.read_csv('Toronto_coordinates.csv')\ntoronto_coordinates.head()"
        },
        {
            "cell_type": "markdown",
            "metadata": {},
            "source": "**Merge the 2 dataframes**"
        },
        {
            "cell_type": "code",
            "execution_count": null,
            "metadata": {},
            "outputs": [],
            "source": "# Prepare the coordinates dataframe to be merged by changing the column names so they correspond to the neighborhood dataframe\ntoronto_coordinates.columns=['PostalCode','Latitude','Longitude']\n\n# Remove the 2 columns created during the attempt to make Google Geocoding work to avoid duplicates\nneighborhoods.drop(['Latitude'], axis='columns', inplace=True)\nneighborhoods.drop(['Longitude'], axis='columns', inplace=True)\n\n# Merge\nneighborhoods = pd.merge(neighborhoods, toronto_coordinates[['PostalCode','Latitude', 'Longitude']], on='PostalCode')"
        },
        {
            "cell_type": "markdown",
            "metadata": {},
            "source": "**Display the dataframe**"
        },
        {
            "cell_type": "code",
            "execution_count": null,
            "metadata": {},
            "outputs": [],
            "source": "neighborhoods"
        },
        {
            "cell_type": "markdown",
            "metadata": {},
            "source": "# Question 3 - Cluster the neighborhoods in Toronto "
        },
        {
            "cell_type": "markdown",
            "metadata": {},
            "source": "**Import libraries**"
        },
        {
            "cell_type": "code",
            "execution_count": null,
            "metadata": {},
            "outputs": [],
            "source": "import numpy as np # library to handle data in a vectorized manner\nprint('Numpy library imported.')\n\n#!conda install -c conda-forge geopy --yes # uncomment this line if you haven't completed the Foursquare API lab\nfrom geopy.geocoders import Nominatim # convert an address into latitude and longitude values\nprint('Geopy library imported.')\n\n# Matplotlib and associated plotting modules\nimport matplotlib.cm as cm\nimport matplotlib.colors as colors\nprint('Matplotlib libraries imported.')\n\n# import k-means from clustering stage\nfrom sklearn.cluster import KMeans\nprint('KMeans library imported.')\n\n#!conda install -c conda-forge folium=0.5.0 --yes\nimport folium # map rendering library\nprint('Folium library imported.')\n\nprint('Libraries imported.')"
        },
        {
            "cell_type": "markdown",
            "metadata": {},
            "source": "**Use geopy library to get the latitude and longitude values of Toronto**"
        },
        {
            "cell_type": "code",
            "execution_count": null,
            "metadata": {},
            "outputs": [],
            "source": "address = 'Toronto, ON'\n\ngeolocator = Nominatim(user_agent=\"ny_explorer\")\nlocation = geolocator.geocode(address)\nlatitude = location.latitude\nlongitude = location.longitude\nprint('The geograpical coordinate of Toronto are {}, {}.'.format(latitude, longitude))"
        },
        {
            "cell_type": "markdown",
            "metadata": {},
            "source": "**Create a map of Toronto with neighborhoods superimposed on top**"
        },
        {
            "cell_type": "code",
            "execution_count": null,
            "metadata": {},
            "outputs": [],
            "source": "# create map of Toronto using latitude and longitude values\nmap_toronto = folium.Map(location=[latitude, longitude], zoom_start=10)\n\n# add markers to map\nfor lat, lng, borough, neighborhood in zip(neighborhoods['Latitude'], neighborhoods['Longitude'], neighborhoods['Borough'], neighborhoods['Neighborhood']):\n    label = '{}, {}'.format(neighborhood, borough)\n    label = folium.Popup(label, parse_html=True)\n    folium.CircleMarker(\n        [lat, lng],\n        radius=5,\n        popup=label,\n        color='blue',\n        fill=True,\n        fill_color='#3186cc',\n        fill_opacity=0.7,\n        parse_html=False).add_to(map_toronto)  \n    \nmap_toronto"
        },
        {
            "cell_type": "code",
            "execution_count": null,
            "metadata": {},
            "outputs": [],
            "source": ""
        },
        {
            "cell_type": "code",
            "execution_count": null,
            "metadata": {},
            "outputs": [],
            "source": ""
        }
    ],
    "metadata": {
        "kernelspec": {
            "display_name": "Python 3.6",
            "language": "python",
            "name": "python3"
        },
        "language_info": {
            "codemirror_mode": {
                "name": "ipython",
                "version": 3
            },
            "file_extension": ".py",
            "mimetype": "text/x-python",
            "name": "python",
            "nbconvert_exporter": "python",
            "pygments_lexer": "ipython3",
            "version": "3.6.9"
        }
    },
    "nbformat": 4,
    "nbformat_minor": 1
}